{
  "nbformat": 4,
  "nbformat_minor": 0,
  "metadata": {
    "colab": {
      "name": "Latihan11-Sklearn with GridSearch",
      "provenance": [],
      "collapsed_sections": []
    },
    "kernelspec": {
      "name": "python3",
      "display_name": "Python 3"
    }
  },
  "cells": [
    {
      "cell_type": "code",
      "metadata": {
        "id": "s_OyVHY4GVqX"
      },
      "source": [
        "import pandas as pd\n",
        "\n",
        "# membaca dataset dan mengubahnya menjadi dataframe\n",
        "data = pd.read_csv('Salary_Data.csv')"
      ],
      "execution_count": null,
      "outputs": []
    },
    {
      "cell_type": "code",
      "metadata": {
        "id": "kUaoKZnzGgzj",
        "colab": {
          "base_uri": "https://localhost:8080/",
          "height": 72
        },
        "outputId": "3005e668-fe86-491c-dd73-f42d00c8a625"
      },
      "source": [
        "import numpy as np\n",
        "\n",
        "# memisahkan atribut dan label\n",
        "X = data['YearsExperience']\n",
        "y = data['Salary']\n",
        "\n",
        "# mengubah bentuk atribut\n",
        "X = X[:,np.newaxis]"
      ],
      "execution_count": null,
      "outputs": [
        {
          "output_type": "stream",
          "text": [
            "/usr/local/lib/python3.6/dist-packages/ipykernel_launcher.py:8: FutureWarning: Support for multi-dimensional indexing (e.g. `obj[:, None]`) is deprecated and will be removed in a future version.  Convert to a numpy array before indexing instead.\n",
            "  \n"
          ],
          "name": "stderr"
        }
      ]
    },
    {
      "cell_type": "code",
      "metadata": {
        "id": "FfE1ItdkGh4K",
        "colab": {
          "base_uri": "https://localhost:8080/",
          "height": 70
        },
        "outputId": "2f0a4097-1fdb-491f-d8e5-413809ab07b5"
      },
      "source": [
        "from sklearn.model_selection import GridSearchCV\n",
        "from sklearn.svm import SVR\n",
        "\n",
        "# membangun model dengan parameter C, gamma, dan kernel\n",
        "model = SVR()\n",
        "parameters = {\n",
        "    'kernel': ['rbf'],\n",
        "    'C':     [1000, 10000, 100000],\n",
        "    'gamma': [0.5, 0.05,0.005]\n",
        "}\n",
        "grid_search = GridSearchCV(model, parameters)\n",
        "\n",
        "# melatih model dengan fungsi fit\n",
        "grid_search.fit(X,y)\n",
        "\n",
        "print(\"SVR GridSearch score: \"+str(grid_search.best_score_))\n",
        "print(\"SVR GridSearch params: \")\n",
        "print(grid_search.best_params_)"
      ],
      "execution_count": null,
      "outputs": [
        {
          "output_type": "stream",
          "text": [
            "SVR GridSearch score: 0.046902312105593216\n",
            "SVR GridSearch params: \n",
            "{'C': 100000, 'gamma': 0.005, 'kernel': 'rbf'}\n"
          ],
          "name": "stdout"
        }
      ]
    },
    {
      "cell_type": "code",
      "metadata": {
        "id": "gqC9ADEUGkI8",
        "colab": {
          "base_uri": "https://localhost:8080/",
          "height": 52
        },
        "outputId": "565151e5-6d60-4869-acb1-b143bf13ea6a"
      },
      "source": [
        "# membuat model SVM baru dengan parameter terbaik hasil grid search\n",
        "model_baru  = SVR(C=100000, gamma=0.005, kernel='rbf')\n",
        "model_baru.fit(X,y)"
      ],
      "execution_count": null,
      "outputs": [
        {
          "output_type": "execute_result",
          "data": {
            "text/plain": [
              "SVR(C=100000, cache_size=200, coef0=0.0, degree=3, epsilon=0.1, gamma=0.005,\n",
              "    kernel='rbf', max_iter=-1, shrinking=True, tol=0.001, verbose=False)"
            ]
          },
          "metadata": {
            "tags": []
          },
          "execution_count": 4
        }
      ]
    },
    {
      "cell_type": "code",
      "metadata": {
        "id": "fMEFMS1dGkz5",
        "colab": {
          "base_uri": "https://localhost:8080/",
          "height": 282
        },
        "outputId": "71b7b714-34da-4286-e577-31b4e8a3d68c"
      },
      "source": [
        "import matplotlib.pyplot as plt\n",
        "plt.scatter(X, y)\n",
        "plt.plot(X, model_baru.predict(X))"
      ],
      "execution_count": null,
      "outputs": [
        {
          "output_type": "execute_result",
          "data": {
            "text/plain": [
              "[<matplotlib.lines.Line2D at 0x7f32fadc59b0>]"
            ]
          },
          "metadata": {
            "tags": []
          },
          "execution_count": 5
        },
        {
          "output_type": "display_data",
          "data": {
            "image/png": "[encoded data removed]",
            "text/plain": [
              "<Figure size 432x288 with 1 Axes>"
            ]
          },
          "metadata": {
            "tags": [],
            "needs_background": "light"
          }
        }
      ]
    }
  ]
}